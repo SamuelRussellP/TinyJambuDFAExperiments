{
 "cells": [
  {
   "cell_type": "code",
   "execution_count": null,
   "metadata": {
    "scrolled": false
   },
   "outputs": [
    {
     "name": "stdout",
     "output_type": "stream",
     "text": [
      "Defining s0, s1, s2, s3, s4, s5, s6, s7, s8, s9, s10, s11, s12, s13, s14, s15, s16, s17, s18, s19, s20, s21, s22, s23, s24, s25, s26, s27, s28, s29, s30, s31, s32, s33, s34, s35, s36, s37, s38, s39, s40, s41, s42, s43, s44, s45, s46, s47, s48, s49, s50, s51, s52, s53, s54, s55, s56, s57, s58, s59, s60, s61, s62, s63, s64, s65, s66, s67, s68, s69, s70, s71, s72, s73, s74, s75, s76, s77, s78, s79, s80, s81, s82, s83, s84, s85, s86, s87, s88, s89, s90, s91, s92, s93, s94, s95, s96, s97, s98, s99, s100, s101, s102, s103, s104, s105, s106, s107, s108, s109, s110, s111, s112, s113, s114, s115, s116, s117, s118, s119, s120, s121, s122, s123, s124, s125, s126, s127, k0, k1, k2, k3, k4, k5, k6, k7, k8, k9, k10, k11, k12, k13, k14, k15, k16, k17, k18, k19, k20, k21, k22, k23, k24, k25, k26, k27, k28, k29, k30, k31, k32, k33, k34, k35, k36, k37, k38, k39, k40, k41, k42, k43, k44, k45, k46, k47, k48, k49, k50, k51, k52, k53, k54, k55, k56, k57, k58, k59, k60, k61, k62, k63, k64, k65, k66, k67, k68, k69, k70, k71, k72, k73, k74, k75, k76, k77, k78, k79, k80, k81, k82, k83, k84, k85, k86, k87, k88, k89, k90, k91, k92, k93, k94, k95, k96, k97, k98, k99, k100, k101, k102, k103, k104, k105, k106, k107, k108, k109, k110, k111, k112, k113, k114, k115, k116, k117, k118, k119, k120, k121, k122, k123, k124, k125, k126, k127\n"
     ]
    }
   ],
   "source": [
    "from sage.all import *\n",
    "from sage.crypto.boolean_function import BooleanFunction\n",
    "from random import randint\n",
    "import random\n",
    "import numpy\n",
    "\n",
    "import sys\n",
    "sys.setrecursionlimit(1000000000)\n",
    "\n",
    "#R.<k0, k1, k2, k3, k4, k5, k6, k7, k8, k9, k10, k11, k12, k13, k14, k15, k16, k17, k18, k19, k20, k21, k22, k23, k24, k25, k26, k27, k28, k29, k30, k31, k32, k33, k34, k35, k36, k37, k38, k39, k40, k41, k42, k43, k44, k45, k46, k47, k48, k49, k50, k51, k52, k53, k54, k55, k56, k57, k58, k59, k60, k61, k62, k63, k64, k65, k66, k67, k68, k69, k70, k71, k72, k73, k74, k75, k76, k77, k78, k79, k80, k81, k82, k83, k84, k85, k86, k87, k88, k89, k90, k91, k92, k93, k94, k95, k96, k97, k98, k99, k100, k101, k102, k103, k104, k105, k106, k107, k108, k109, k110, k111, k112, k113, k114, k115, k116, k117, k118, k119, k120, k121, k122, k123, k124, k125, k126, k127, v0, v1, v2, v3, v4, v5, v6, v7, v8, v9, v10, v11, v12, v13, v14, v15, v16, v17, v18, v19, v20, v21, v22, v23, v24, v25, v26, v27, v28, v29, v30, v31, v32, v33, v34, v35, v36, v37, v38, v39, v40, v41, v42, v43, v44, v45, v46, v47, v48, v49, v50, v51, v52, v53, v54, v55, v56, v57, v58, v59, v60, v61, v62, v63, v64, v65, v66, v67, v68, v69, v70, v71, v72, v73, v74, v75, v76, v77, v78, v79, v80, v81, v82, v83, v84, v85, v86, v87, v88, v89, v90, v91, v92, v93, v94, v95> = BooleanPolynomialRing()\n",
    "R = BooleanPolynomialRing(names=('s0', 's1', 's2', 's3', 's4', 's5', 's6', 's7', \n",
    "                                 's8', 's9', 's10', 's11', 's12', 's13', 's14', 's15', \n",
    "                                 's16', 's17', 's18', 's19', 's20', 's21', 's22', 's23', \n",
    "                                 's24', 's25', 's26', 's27', 's28', 's29', 's30', 's31', \n",
    "                                 's32', 's33', 's34', 's35', 's36', 's37', 's38', 's39', \n",
    "                                 's40', 's41', 's42', 's43', 's44', 's45', 's46', 's47', \n",
    "                                 's48', 's49', 's50', 's51', 's52', 's53', 's54', 's55', \n",
    "                                 's56', 's57', 's58', 's59', 's60', 's61', 's62', 's63', \n",
    "                                 's64', 's65', 's66', 's67', 's68', 's69', 's70', 's71', \n",
    "                                 's72', 's73', 's74', 's75', 's76', 's77', 's78', 's79', \n",
    "                                 's80', 's81', 's82', 's83', 's84', 's85', 's86', 's87', \n",
    "                                 's88', 's89', 's90', 's91', 's92', 's93', 's94', 's95', \n",
    "                                 's96', 's97', 's98', 's99', 's100', 's101', 's102', 's103', \n",
    "                                 's104', 's105', 's106', 's107', 's108', 's109', 's110', 's111', \n",
    "                                 's112', 's113', 's114', 's115', 's116', 's117', 's118', 's119', \n",
    "                                 's120', 's121', 's122', 's123', 's124', 's125', 's126', 's127', \n",
    "                                 'k0', 'k1', 'k2', 'k3', 'k4', 'k5', 'k6', 'k7', \n",
    "                                 'k8', 'k9', 'k10', 'k11', 'k12', 'k13', 'k14', 'k15', \n",
    "                                 'k16', 'k17', 'k18', 'k19', 'k20', 'k21', 'k22', 'k23', \n",
    "                                 'k24', 'k25', 'k26', 'k27', 'k28', 'k29', 'k30', 'k31', \n",
    "                                 'k32', 'k33', 'k34', 'k35', 'k36', 'k37', 'k38', 'k39', \n",
    "                                 'k40', 'k41', 'k42', 'k43', 'k44', 'k45', 'k46', 'k47', \n",
    "                                 'k48', 'k49', 'k50', 'k51', 'k52', 'k53', 'k54', 'k55', \n",
    "                                 'k56', 'k57', 'k58', 'k59', 'k60', 'k61', 'k62', 'k63', \n",
    "                                 'k64', 'k65', 'k66', 'k67', 'k68', 'k69', 'k70', 'k71', \n",
    "                                 'k72', 'k73', 'k74', 'k75', 'k76', 'k77', 'k78', 'k79', \n",
    "                                 'k80', 'k81', 'k82', 'k83', 'k84', 'k85', 'k86', 'k87', \n",
    "                                 'k88', 'k89', 'k90', 'k91', 'k92', 'k93', 'k94', 'k95', \n",
    "                                 'k96', 'k97', 'k98', 'k99', 'k100', 'k101', 'k102', 'k103', \n",
    "                                 'k104', 'k105', 'k106', 'k107', 'k108', 'k109', 'k110', 'k111', \n",
    "                                 'k112', 'k113', 'k114', 'k115', 'k116', 'k117', 'k118', 'k119', \n",
    "                                 'k120', 'k121', 'k122', 'k123', 'k124', 'k125', 'k126', 'k127'))\n",
    "R.inject_variables()\n",
    "S = list(R.gens()[0:128])\n",
    "S_128 = list(R.gens()[0:128])\n",
    "K = list(R.gens()[128:256])\n",
    "C = R.cover_ring()\n",
    "\n",
    "eqList = [\"eq\"]\n",
    "\n",
    "#State Update\n",
    "for i in range(192):#try to increase 32 bits at a time\n",
    "    feedback = S[0] + S[47] + S[70]*S[85] + S[91] + 1 + K[i%128]\n",
    "    for j in range(127):\n",
    "        S[j] = S[j+1]\n",
    "    S[127] = feedback\n",
    "\n",
    "print('\\n')\n",
    "for i in range (89,96,1): \n",
    "    print(\"S =\", i)\n",
    "    #print(S[i])\n",
    "    print('\\n')\n",
    "    for j in range (0,128):\n",
    "        X = R(diff(C(S[i]),C(S_128[j])))\n",
    "        if X !=0 and X != 1 :\n",
    "            if X.degree() <= 2:\n",
    "                print ('Differentiate with respect to:', S_128[j])\n",
    "                print(\"Result After Differentiation:\")\n",
    "                print (X)\n",
    "                print(\"Degree :\", X.degree())\n",
    "                print('\\n')  \n",
    "    print ('--------------------------------------------------------------------------------------------------------------')"
   ]
  },
  {
   "cell_type": "code",
   "execution_count": null,
   "metadata": {},
   "outputs": [],
   "source": []
  },
  {
   "cell_type": "code",
   "execution_count": null,
   "metadata": {},
   "outputs": [],
   "source": []
  },
  {
   "cell_type": "code",
   "execution_count": null,
   "metadata": {},
   "outputs": [],
   "source": []
  },
  {
   "cell_type": "code",
   "execution_count": null,
   "metadata": {},
   "outputs": [],
   "source": []
  }
 ],
 "metadata": {
  "kernelspec": {
   "display_name": "Python 3",
   "language": "python",
   "name": "python3"
  },
  "language_info": {
   "codemirror_mode": {
    "name": "ipython",
    "version": 3
   },
   "file_extension": ".py",
   "mimetype": "text/x-python",
   "name": "python",
   "nbconvert_exporter": "python",
   "pygments_lexer": "ipython3",
   "version": "3.7.7"
  }
 },
 "nbformat": 4,
 "nbformat_minor": 4
}
